{
 "cells": [
  {
   "cell_type": "code",
   "execution_count": null,
   "source": [
    "import numpy as np\r\n",
    "import pandas as pd\r\n",
    "import seaborn as sns\r\n",
    "import tensorflow as tf\r\n",
    "import matplotlib.pyplot as plt\r\n",
    "\r\n",
    "sns.set_style(\"darkgrid\", {\"grid.color\": \".6\", \"grid.linestyle\": \":\"})"
   ],
   "outputs": [],
   "metadata": {}
  },
  {
   "cell_type": "code",
   "execution_count": null,
   "source": [
    "def per2float(x):\r\n",
    "  try: \r\n",
    "    x = float(x.strip('%'))/100\r\n",
    "    return x\r\n",
    "  except: pass\r\n",
    "\r\n",
    "train_df = pd.read_csv('data/train/KeqingStat_train.csv', converters={'CRIT DMG':per2float})\r\n",
    "test_df = pd.read_csv('data/test/KeqingStat_test.csv', converters={'CRIT DMG':per2float})\r\n",
    "\r\n",
    "train_df.head()"
   ],
   "outputs": [],
   "metadata": {}
  },
  {
   "cell_type": "code",
   "execution_count": null,
   "source": [
    "fig, (ax1, ax2, ax3, ax4) = plt.subplots(1,4, figsize=(20,8))\r\n",
    "\r\n",
    "sns.scatterplot(x=train_df['Lv'], y=train_df['Base HP'], ax=ax1)\r\n",
    "sns.scatterplot(x=train_df['Lv'], y=train_df['Base ATK'], ax=ax2)\r\n",
    "sns.scatterplot(x=train_df['Lv'], y=train_df['Base DEF'], ax=ax3)\r\n",
    "sns.scatterplot(x=train_df['Lv'], y=train_df['CRIT DMG'], ax=ax4)\r\n",
    "\r\n",
    "plt.show()"
   ],
   "outputs": [],
   "metadata": {}
  },
  {
   "cell_type": "code",
   "execution_count": null,
   "source": [
    "in_d = (1,)\r\n",
    "\r\n",
    "def HP_model():\r\n",
    "  model = tf.keras.Sequential(name='HP_Model',)\r\n",
    "  model.add(tf.keras.layers.Dense(1, input_shape=in_d))\r\n",
    "  model.compile(loss=tf.keras.losses.MeanAbsoluteError(), optimizer=tf.keras.optimizers.Adam(learning_rate=1))\r\n",
    "  return model\r\n",
    "\r\n",
    "def ATK_model():\r\n",
    "  model = tf.keras.Sequential(name='ATK_Model')\r\n",
    "  model.add(tf.keras.layers.Dense(1, input_shape=in_d))\r\n",
    "  model.compile(loss=tf.keras.losses.MeanAbsoluteError(), optimizer=tf.keras.optimizers.Adam(learning_rate=0.05))\r\n",
    "  return model\r\n",
    "\r\n",
    "def DEF_model():\r\n",
    "  model = tf.keras.Sequential(name='DEF_Model')\r\n",
    "  model.add(tf.keras.layers.Dense(1, input_shape=in_d))\r\n",
    "  model.compile(loss=tf.keras.losses.MeanAbsoluteError(), optimizer=tf.keras.optimizers.Adam(learning_rate=0.05))\r\n",
    "  return model\r\n",
    "\r\n",
    "def CRIT_model():\r\n",
    "  model = tf.keras.Sequential(name='CRIT_Model')\r\n",
    "  model.add(tf.keras.layers.Dense(1, input_shape=in_d))\r\n",
    "  model.compile(loss=tf.keras.losses.MeanSquaredError(), optimizer=tf.keras.optimizers.Adam(learning_rate=0.1))\r\n",
    "  return model\r\n",
    "\r\n",
    "hp_m = HP_model()\r\n",
    "atk_m = ATK_model()\r\n",
    "def_m = DEF_model()\r\n",
    "crit_m = CRIT_model()"
   ],
   "outputs": [],
   "metadata": {}
  },
  {
   "cell_type": "code",
   "execution_count": null,
   "source": [
    "X = train_df['Lv']\r\n",
    "\r\n",
    "hp_his = hp_m.fit(X, train_df['Base HP'], epochs=900, verbose=0)\r\n",
    "atk_his = atk_m.fit(X, train_df['Base ATK'], epochs=900, verbose=0)\r\n",
    "def_his = def_m.fit(X, train_df['Base DEF'], epochs=900, verbose=0)\r\n",
    "crit_his = crit_m.fit(X, train_df['CRIT DMG'], epochs=900, verbose=0)"
   ],
   "outputs": [],
   "metadata": {}
  },
  {
   "cell_type": "code",
   "execution_count": null,
   "source": [
    "fig, (ax1, ax2, ax3, ax4) = plt.subplots(1,4, figsize=(20,8))\r\n",
    "\r\n",
    "ax1.plot(hp_his.history['loss'])\r\n",
    "ax2.plot(atk_his.history['loss'])\r\n",
    "ax3.plot(def_his.history['loss'])\r\n",
    "ax4.plot(def_his.history['loss'])\r\n",
    "\r\n",
    "ax1.set_xlabel('Epochs'), ax2.set_xlabel('Epochs'), ax3.set_xlabel('Epochs'), ax4.set_xlabel('Epochs'), ax4.set\r\n",
    "ax1.set_ylabel('Loss'), ax2.set_ylabel('Loss'), ax3.set_ylabel('Loss'), ax4.set_ylabel('Loss')\r\n",
    "\r\n",
    "plt.show()"
   ],
   "outputs": [],
   "metadata": {}
  },
  {
   "cell_type": "code",
   "execution_count": null,
   "source": [
    "result = {}\r\n",
    "\r\n",
    "result['hp_prediction'] = hp_m.predict(test_df['Lv'])\r\n",
    "result['atk_prediction'] = atk_m.predict(test_df['Lv'])\r\n",
    "result['def_prediction'] = def_m.predict(test_df['Lv'])\r\n",
    "result['crit_prediction'] = crit_m.predict(test_df['Lv'])"
   ],
   "outputs": [],
   "metadata": {}
  },
  {
   "cell_type": "code",
   "execution_count": null,
   "source": [
    "fig, (ax1, ax2, ax3, ax4) = plt.subplots(1,4, figsize=(20,8))\r\n",
    "\r\n",
    "sns.scatterplot(x=test_df['Lv'], y=test_df['Base HP'], ax=ax1)\r\n",
    "ax1.plot(test_df['Lv'], result['hp_prediction'], color='g')\r\n",
    "\r\n",
    "sns.scatterplot(x=test_df['Lv'], y=test_df['Base ATK'], ax=ax2)\r\n",
    "ax2.plot(test_df['Lv'], result['atk_prediction'], color='r')\r\n",
    "\r\n",
    "sns.scatterplot(x=test_df['Lv'], y=test_df['Base DEF'], ax=ax3)\r\n",
    "ax3.plot(test_df['Lv'], result['def_prediction'], color='b')\r\n",
    "\r\n",
    "sns.scatterplot(x=test_df['Lv'], y=test_df['CRIT DMG'], ax=ax4)\r\n",
    "ax4.plot(test_df['Lv'], result['crit_prediction'], color='b')\r\n",
    "\r\n",
    "plt.show()"
   ],
   "outputs": [],
   "metadata": {}
  },
  {
   "cell_type": "code",
   "execution_count": null,
   "source": [
    "HP = np.hstack(result['hp_prediction']).astype(int)\r\n",
    "ATK = np.hstack(result['atk_prediction']).astype(int)\r\n",
    "DEF = np.hstack(result['def_prediction']).astype(int)\r\n",
    "conv_crit = pd.DataFrame(result['crit_prediction']).applymap(lambda x: '{:.2%}'.format(x)).values\r\n",
    "CRIT = np.hstack(conv_crit).astype(str)\r\n",
    "\r\n",
    "data = {'Lv': test_df['Lv'], 'Base HP': HP, 'Base ATK': ATK, 'Base DEF': DEF, 'CRIT DMG': CRIT}\r\n",
    "\r\n",
    "result_df = pd.DataFrame(data, columns= ['Lv', 'Base HP', 'Base ATK', 'Base DEF', 'CRIT DMG'])\r\n",
    "result_df.to_csv('dist/prediction.csv')\r\n",
    "\r\n",
    "result_df"
   ],
   "outputs": [],
   "metadata": {}
  }
 ],
 "metadata": {
  "interpreter": {
   "hash": "2fd07f4540197822f09abc70d5806247319a681f8bb1057e244daa81f9f400a4"
  },
  "kernelspec": {
   "name": "python3",
   "display_name": "Python 3.9.7 64-bit ('env': venv)"
  },
  "language_info": {
   "codemirror_mode": {
    "name": "ipython",
    "version": 3
   },
   "file_extension": ".py",
   "mimetype": "text/x-python",
   "name": "python",
   "nbconvert_exporter": "python",
   "pygments_lexer": "ipython3",
   "version": "3.9.7"
  }
 },
 "nbformat": 4,
 "nbformat_minor": 2
}
